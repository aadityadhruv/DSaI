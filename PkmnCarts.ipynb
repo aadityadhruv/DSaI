{
 "cells": [
  {
   "cell_type": "code",
   "execution_count": 1,
   "metadata": {},
   "outputs": [],
   "source": [
    "import datetime as dt\n",
    "import praw\n",
    "import numpy as np\n",
    "import pandas as pd\n",
    "import matplotlib.pyplot as plt"
   ]
  },
  {
   "cell_type": "code",
   "execution_count": 2,
   "metadata": {},
   "outputs": [],
   "source": [
    "reddit = praw.Reddit(client_id='9u3EEbew8PzZ7g', \\\n",
    "                     client_secret='cYvn2pJZQ5Iwtt8RakSyc53E7Z2iBg', \\\n",
    "                     user_agent='pkmnCarts')"
   ]
  },
  {
   "cell_type": "code",
   "execution_count": 3,
   "metadata": {},
   "outputs": [],
   "source": [
    "game_verify = reddit.subreddit('gameverifying')"
   ]
  },
  {
   "cell_type": "code",
   "execution_count": 4,
   "metadata": {},
   "outputs": [],
   "source": [
    "params = {'sort':'new', 'limit':None, 'syntax':'cloudsearch'}\n",
    "results =  game_verify.search(\"soulsilver OR heartgold OR soul silver OR heart gold OR hgss OR HG OR SS\", **params)"
   ]
  },
  {
   "cell_type": "code",
   "execution_count": 5,
   "metadata": {},
   "outputs": [],
   "source": [
    "plat_list = { \"image\":[], \\\n",
    "                \"isReal\":[]}\n",
    "plat_arr = []"
   ]
  },
  {
   "cell_type": "code",
   "execution_count": 6,
   "metadata": {},
   "outputs": [],
   "source": [
    "size = 0"
   ]
  },
  {
   "cell_type": "code",
   "execution_count": 7,
   "metadata": {},
   "outputs": [],
   "source": [
    "class Cartridge:\n",
    "    def __init__(self, cart):\n",
    "        self.images = []\n",
    "        self.cart = cart\n",
    "        self.images.append(cart.url)\n",
    "        self.is_fake = cart.link_flair_text\n",
    "        \n",
    "    def add_image(self, image):\n",
    "        self.images.append(image)\n",
    "    def clear(self):\n",
    "        self.images.clear()\n",
    "    def clear_add_images(image):\n",
    "        self.images.clear()\n",
    "        add_image(image)\n",
    "        \n",
    "    def modify_is_fake(self, new_val):\n",
    "        self.is_fake = new_val\n",
    "    def process_gallery(self):\n",
    "        for img in self.images:\n",
    "            if img.endswith(\"jpg\") or img.endswith(\"png\") or img.endswith(\"jpeg\") or img.find(\"imgur\") != -1:\n",
    "                continue\n",
    "            else:\n",
    "                self.clear()\n",
    "                for item in sorted(self.cart.gallery_data['items'], key=lambda x: x['id']):\n",
    "                    media_id = item['media_id']\n",
    "                    meta = self.cart.media_metadata[media_id]\n",
    "                    if meta['e'] == 'Image':\n",
    "                        source = meta['s']\n",
    "                        self.images.append(source['u'])\n",
    "\n",
    "                "
   ]
  },
  {
   "cell_type": "code",
   "execution_count": null,
   "metadata": {
    "scrolled": true
   },
   "outputs": [],
   "source": [
    "for submission in results:\n",
    "    post = reddit.submission(id=submission)\n",
    "    if not submission.is_self:\n",
    "        plat_list[\"image\"].append(submission.url)\n",
    "        plat_list[\"isReal\"].append(submission.link_flair_text)\n",
    "        plat_arr.append(Cartridge(submission))\n",
    "        size += 1"
   ]
  },
  {
   "cell_type": "code",
   "execution_count": null,
   "metadata": {},
   "outputs": [],
   "source": [
    "df = pd.DataFrame(plat_list)"
   ]
  },
  {
   "cell_type": "code",
   "execution_count": null,
   "metadata": {},
   "outputs": [],
   "source": [
    "len(plat_arr)"
   ]
  },
  {
   "cell_type": "code",
   "execution_count": null,
   "metadata": {},
   "outputs": [],
   "source": [
    "size"
   ]
  },
  {
   "cell_type": "code",
   "execution_count": null,
   "metadata": {},
   "outputs": [],
   "source": [
    "df.head()\n"
   ]
  },
  {
   "cell_type": "code",
   "execution_count": null,
   "metadata": {},
   "outputs": [],
   "source": [
    "post1 = reddit.submission(url=\"https://www.reddit.com/r/gameverifying/comments/kec2d0/planning_to_buy_is_this_legit_thank_you_in_advance/?utm_source=share&utm_medium=web2x&context=3\")\n",
    "post2 = reddit.submission(url=\"https://www.reddit.com/gallery/keluqk\")\n",
    "#https://www.reddit.com/gallery/keluqk\n",
    "#https://www.reddit.com/r/gameverifying/comments/kec2d0/planning_to_buy_is_this_legit_thank_you_in_advance/?utm_source=share&utm_medium=web2x&context=3"
   ]
  },
  {
   "cell_type": "code",
   "execution_count": null,
   "metadata": {},
   "outputs": [],
   "source": [
    "vars(post1)"
   ]
  },
  {
   "cell_type": "code",
   "execution_count": null,
   "metadata": {},
   "outputs": [],
   "source": [
    "vars(post2)"
   ]
  },
  {
   "cell_type": "code",
   "execution_count": null,
   "metadata": {},
   "outputs": [],
   "source": [
    "post2.is_gallery"
   ]
  },
  {
   "cell_type": "code",
   "execution_count": null,
   "metadata": {},
   "outputs": [],
   "source": [
    "for cart in plat_arr:\n",
    "    cart.process_gallery()\n",
    "    #print(cart.images)"
   ]
  }
 ],
 "metadata": {
  "kernelspec": {
   "display_name": "Python 3",
   "language": "python",
   "name": "python3"
  },
  "language_info": {
   "codemirror_mode": {
    "name": "ipython",
    "version": 3
   },
   "file_extension": ".py",
   "mimetype": "text/x-python",
   "name": "python",
   "nbconvert_exporter": "python",
   "pygments_lexer": "ipython3",
   "version": "3.7.3"
  }
 },
 "nbformat": 4,
 "nbformat_minor": 2
}
