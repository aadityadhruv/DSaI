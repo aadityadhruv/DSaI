{
 "cells": [
  {
   "cell_type": "code",
   "execution_count": 1,
   "metadata": {},
   "outputs": [],
   "source": [
    "import datetime as dt\n",
    "import praw\n",
    "import numpy as np\n",
    "import pandas as pd\n",
    "import matplotlib.pyplot as plt"
   ]
  },
  {
   "cell_type": "code",
   "execution_count": 2,
   "metadata": {},
   "outputs": [],
   "source": [
    "reddit = praw.Reddit(client_id='9u3EEbew8PzZ7g', \\\n",
    "                     client_secret='cYvn2pJZQ5Iwtt8RakSyc53E7Z2iBg', \\\n",
    "                     user_agent='pkmnCarts')"
   ]
  },
  {
   "cell_type": "code",
   "execution_count": 3,
   "metadata": {},
   "outputs": [],
   "source": [
    "game_verify = reddit.subreddit('gameverifying')"
   ]
  },
  {
   "cell_type": "code",
   "execution_count": 4,
   "metadata": {},
   "outputs": [],
   "source": [
    "params = {'sort':'new', 'limit':None, 'syntax':'cloudsearch'}\n",
    "results =  game_verify.search(\"soulsilver OR heartgold OR soul silver OR heart gold OR hgss OR HG OR SS\", **params)"
   ]
  },
  {
   "cell_type": "code",
   "execution_count": 5,
   "metadata": {},
   "outputs": [],
   "source": [
    "plat_list = { \"image\":[], \\\n",
    "                \"isReal\":[]}\n",
    "plat_arr = []"
   ]
  },
  {
   "cell_type": "code",
   "execution_count": 6,
   "metadata": {},
   "outputs": [],
   "source": [
    "size = 0"
   ]
  },
  {
   "cell_type": "code",
   "execution_count": 23,
   "metadata": {},
   "outputs": [],
   "source": [
    "class Cartridge:\n",
    "    def __init__(self, cart):\n",
    "        self.images = []\n",
    "        self.cart = cart\n",
    "        self.images.append(cart.url)\n",
    "        self.is_fake = cart.link_flair_text\n",
    "        \n",
    "    def add_image(self, image):\n",
    "        self.images.append(image)\n",
    "    def clear(self):\n",
    "        self.images.clear(self)\n",
    "    def clear_add_images(image):\n",
    "        self.images.clear()\n",
    "        add_image(image)\n",
    "        \n",
    "    def modify_is_fake(self, new_val):\n",
    "        self.is_fake = new_val\n",
    "    def process_gallery(self):\n",
    "        for img in self.images:\n",
    "            if img.endswith(\"jpg\") or img.endswith(\"png\") or img.endswith(\"jpeg\") or img.find(\"imgur\"):\n",
    "                continue\n",
    "            else:\n",
    "                print(\"entered\")\n",
    "                self.clear()\n",
    "                for item in sorted(self.cart.gallery_data['items'], key=lambda x: x['id']):\n",
    "                    media_id = item['media_id']\n",
    "                    meta = self.cart.media_metadata[media_id]\n",
    "                    if meta['e'] == 'Image':\n",
    "                        source = meta['s']\n",
    "                        self.images.append(source['u'])\n",
    "\n",
    "                "
   ]
  },
  {
   "cell_type": "code",
   "execution_count": 8,
   "metadata": {
    "scrolled": true
   },
   "outputs": [],
   "source": [
    "for submission in results:\n",
    "    post = reddit.submission(id=submission)\n",
    "    if not submission.is_self:\n",
    "        plat_list[\"image\"].append(submission.url)\n",
    "        plat_list[\"isReal\"].append(submission.link_flair_text)\n",
    "        plat_arr.append(Cartridge(submission))\n",
    "        size += 1"
   ]
  },
  {
   "cell_type": "code",
   "execution_count": 10,
   "metadata": {},
   "outputs": [],
   "source": [
    "df = pd.DataFrame(plat_list)"
   ]
  },
  {
   "cell_type": "code",
   "execution_count": 11,
   "metadata": {},
   "outputs": [
    {
     "data": {
      "text/plain": [
       "163"
      ]
     },
     "execution_count": 11,
     "metadata": {},
     "output_type": "execute_result"
    }
   ],
   "source": [
    "len(plat_arr)"
   ]
  },
  {
   "cell_type": "code",
   "execution_count": 12,
   "metadata": {},
   "outputs": [
    {
     "data": {
      "text/plain": [
       "163"
      ]
     },
     "execution_count": 12,
     "metadata": {},
     "output_type": "execute_result"
    }
   ],
   "source": [
    "size"
   ]
  },
  {
   "cell_type": "code",
   "execution_count": 13,
   "metadata": {},
   "outputs": [
    {
     "data": {
      "text/html": [
       "<div>\n",
       "<style scoped>\n",
       "    .dataframe tbody tr th:only-of-type {\n",
       "        vertical-align: middle;\n",
       "    }\n",
       "\n",
       "    .dataframe tbody tr th {\n",
       "        vertical-align: top;\n",
       "    }\n",
       "\n",
       "    .dataframe thead th {\n",
       "        text-align: right;\n",
       "    }\n",
       "</style>\n",
       "<table border=\"1\" class=\"dataframe\">\n",
       "  <thead>\n",
       "    <tr style=\"text-align: right;\">\n",
       "      <th></th>\n",
       "      <th>image</th>\n",
       "      <th>isReal</th>\n",
       "    </tr>\n",
       "  </thead>\n",
       "  <tbody>\n",
       "    <tr>\n",
       "      <th>0</th>\n",
       "      <td>https://www.reddit.com/gallery/keluqk</td>\n",
       "      <td>Awaiting images</td>\n",
       "    </tr>\n",
       "    <tr>\n",
       "      <th>1</th>\n",
       "      <td>https://www.reddit.com/gallery/kejon5</td>\n",
       "      <td>Legitimate</td>\n",
       "    </tr>\n",
       "    <tr>\n",
       "      <th>2</th>\n",
       "      <td>https://imgur.com/a/pfnM7FI</td>\n",
       "      <td>Legitimate</td>\n",
       "    </tr>\n",
       "    <tr>\n",
       "      <th>3</th>\n",
       "      <td>https://www.reddit.com/gallery/kdi4ky</td>\n",
       "      <td>Legitimate</td>\n",
       "    </tr>\n",
       "    <tr>\n",
       "      <th>4</th>\n",
       "      <td>https://www.reddit.com/gallery/kdgc9n</td>\n",
       "      <td>Legitimate</td>\n",
       "    </tr>\n",
       "  </tbody>\n",
       "</table>\n",
       "</div>"
      ],
      "text/plain": [
       "                                   image           isReal\n",
       "0  https://www.reddit.com/gallery/keluqk  Awaiting images\n",
       "1  https://www.reddit.com/gallery/kejon5       Legitimate\n",
       "2            https://imgur.com/a/pfnM7FI       Legitimate\n",
       "3  https://www.reddit.com/gallery/kdi4ky       Legitimate\n",
       "4  https://www.reddit.com/gallery/kdgc9n       Legitimate"
      ]
     },
     "execution_count": 13,
     "metadata": {},
     "output_type": "execute_result"
    }
   ],
   "source": [
    "df.head()\n"
   ]
  },
  {
   "cell_type": "code",
   "execution_count": 14,
   "metadata": {},
   "outputs": [],
   "source": [
    "post1 = reddit.submission(url=\"https://www.reddit.com/r/gameverifying/comments/kec2d0/planning_to_buy_is_this_legit_thank_you_in_advance/?utm_source=share&utm_medium=web2x&context=3\")\n",
    "post2 = reddit.submission(url=\"https://www.reddit.com/gallery/keluqk\")\n",
    "#https://www.reddit.com/gallery/keluqk\n",
    "#https://www.reddit.com/r/gameverifying/comments/kec2d0/planning_to_buy_is_this_legit_thank_you_in_advance/?utm_source=share&utm_medium=web2x&context=3"
   ]
  },
  {
   "cell_type": "code",
   "execution_count": 15,
   "metadata": {},
   "outputs": [
    {
     "data": {
      "text/plain": [
       "{'_reddit': <praw.reddit.Reddit at 0x13e9157c7b8>,\n",
       " '_fetched': False,\n",
       " 'comment_limit': 2048,\n",
       " 'comment_sort': 'confidence',\n",
       " 'id': 'kec2d0',\n",
       " '_comments_by_id': {}}"
      ]
     },
     "execution_count": 15,
     "metadata": {},
     "output_type": "execute_result"
    }
   ],
   "source": [
    "vars(post1)"
   ]
  },
  {
   "cell_type": "code",
   "execution_count": 16,
   "metadata": {},
   "outputs": [
    {
     "data": {
      "text/plain": [
       "{'_reddit': <praw.reddit.Reddit at 0x13e9157c7b8>,\n",
       " '_fetched': False,\n",
       " 'comment_limit': 2048,\n",
       " 'comment_sort': 'confidence',\n",
       " 'id': 'keluqk',\n",
       " '_comments_by_id': {}}"
      ]
     },
     "execution_count": 16,
     "metadata": {},
     "output_type": "execute_result"
    }
   ],
   "source": [
    "vars(post2)"
   ]
  },
  {
   "cell_type": "code",
   "execution_count": 17,
   "metadata": {},
   "outputs": [
    {
     "data": {
      "text/plain": [
       "True"
      ]
     },
     "execution_count": 17,
     "metadata": {},
     "output_type": "execute_result"
    }
   ],
   "source": [
    "post2.is_gallery"
   ]
  },
  {
   "cell_type": "code",
   "execution_count": 22,
   "metadata": {},
   "outputs": [
    {
     "name": "stdout",
     "output_type": "stream",
     "text": [
      "['https://www.reddit.com/gallery/keluqk']\n",
      "['https://www.reddit.com/gallery/kejon5']\n",
      "['https://imgur.com/a/pfnM7FI']\n",
      "['https://www.reddit.com/gallery/kdi4ky']\n",
      "['https://www.reddit.com/gallery/kdgc9n']\n",
      "['https://www.reddit.com/gallery/kd9f93']\n",
      "['https://www.reddit.com/gallery/kcw9lh']\n",
      "['https://www.reddit.com/gallery/kcj2s0']\n",
      "['http://imgur.com/gallery/LaS6sXA']\n",
      "['https://www.reddit.com/gallery/kavngm']\n",
      "['https://www.reddit.com/gallery/kaeble']\n",
      "['https://www.reddit.com/gallery/kab9r0']\n",
      "['https://www.reddit.com/gallery/ka3n1p']\n",
      "['https://www.reddit.com/gallery/k9unf8']\n",
      "['https://www.reddit.com/gallery/k992i1']\n",
      "['https://i.redd.it/duredzbhlg361.jpg']\n",
      "['https://www.reddit.com/gallery/k7a6pp']\n",
      "['https://www.reddit.com/gallery/k68a1q']\n",
      "['https://i.redd.it/rqj7wgint0361.jpg']\n",
      "['https://i.redd.it/pg2yp00kkn161.jpg']\n",
      "['https://www.reddit.com/gallery/k1iap5']\n",
      "['http://imgur.com/gallery/Wj2bATl']\n",
      "['https://imgur.com/gallery/fgo2nrn']\n",
      "['https://www.reddit.com/gallery/jvxfp8']\n",
      "['https://www.reddit.com/gallery/juxoig']\n",
      "['https://www.reddit.com/gallery/jtt04g']\n",
      "['https://i.redd.it/w7oddq4bfvy51.jpg']\n",
      "['https://www.reddit.com/gallery/jrwba3']\n",
      "['https://i.redd.it/497100c1o9y51.png']\n",
      "['https://www.reddit.com/gallery/jq04o9']\n",
      "['https://imgur.com/a/7hlS5tX']\n",
      "['https://imgur.com/a/1DyQVZ6']\n",
      "['https://www.reddit.com/gallery/jpqor7']\n",
      "['https://www.reddit.com/gallery/jpou3i']\n",
      "['https://www.reddit.com/gallery/jp8uum']\n",
      "['https://www.reddit.com/gallery/joxn6t']\n",
      "['https://www.reddit.com/gallery/joobqm']\n",
      "['https://www.reddit.com/gallery/jogumj']\n",
      "['http://imgur.com/a/6FiH1vC']\n",
      "['https://www.reddit.com/gallery/jnmqlu']\n",
      "['https://imgur.com/a/035Q1g8']\n",
      "['https://www.reddit.com/gallery/jl0jes']\n",
      "['https://www.reddit.com/gallery/jkbck8']\n",
      "['https://i.redd.it/jm7x55u8tzv51.jpg']\n",
      "['https://i.redd.it/gbfmp227jvv51.jpg']\n",
      "['https://www.reddit.com/gallery/jjmrst']\n",
      "['https://imgur.com/a/dKAHsNq']\n",
      "['https://www.reddit.com/gallery/jh1n4w']\n",
      "['http://imgur.com/a/whylBF6']\n",
      "['https://www.reddit.com/gallery/jf7ecn']\n",
      "['https://imgur.com/a/mpy5gZq']\n",
      "['https://i.redd.it/3zbsja7bu3u51.jpg']\n",
      "['https://www.reddit.com/gallery/je608l']\n",
      "['https://www.reddit.com/gallery/je5wz6']\n",
      "['https://www.reddit.com/gallery/jci5z5']\n",
      "['https://i.redd.it/ct9cart0e7t51.jpg']\n",
      "['https://i.redd.it/dsrleycyx6t51.jpg']\n",
      "['https://www.reddit.com/gallery/jazpf4']\n",
      "['https://imgur.com/a/bnUTZRM']\n",
      "['https://imgur.com/a/jgcMzf7']\n",
      "['http://imgur.com/a/EWCplTp']\n",
      "['https://i.redd.it/0machr108ds51.jpg']\n",
      "['https://i.redd.it/5ghv49jxf9s51.jpg']\n",
      "['https://i.redd.it/cdamp9fq38s51.jpg']\n",
      "['https://i.redd.it/zo3nk8njy0s51.jpg']\n",
      "['http://imgur.com/gallery/N95u171']\n",
      "['https://i.redd.it/66qr02sebkr51.jpg']\n",
      "['https://i.redd.it/yxzfjpnah9r51.jpg']\n",
      "['https://i.redd.it/8k9a1np028r51.png']\n",
      "['https://imgur.com/a/tS5zjzF']\n",
      "['https://i.redd.it/dq1l6vqptvq51.jpg']\n",
      "['https://i.redd.it/9m2rl621ppq51.jpg']\n",
      "['https://i.redd.it/nvaayaxdf5q51.jpg']\n",
      "['https://imgur.com/gallery/4r0oT6r']\n",
      "['https://i.redd.it/eqcilhaw00q51.png']\n",
      "['https://i.redd.it/wdvjjst3eqp51.jpg']\n",
      "['https://i.redd.it/uxree9r0n7o51.jpg']\n",
      "['https://i.redd.it/mb2ghtaws1n51.jpg']\n",
      "['https://i.redd.it/dq8g91jes1n51.jpg']\n",
      "['https://i.redd.it/75xbr95gbxm51.jpg']\n",
      "['https://i.redd.it/xucdqav0wsm51.jpg']\n",
      "['https://i.redd.it/70jfy42mdrl51.jpg']\n",
      "['https://i.redd.it/osv06vho48l51.jpg']\n",
      "['https://imgur.com/gallery/NbLrcAp']\n",
      "['https://i.redd.it/lz7wv93z20l51.jpg']\n",
      "['https://i.redd.it/2yj4k2kuyyk51.jpg']\n",
      "['https://i.redd.it/fq3dkzpzmtk51.jpg']\n",
      "['https://i.redd.it/12i812yd4nk51.jpg']\n",
      "['https://i.redd.it/dfnasnv8zmk51.jpg']\n",
      "['https://imgur.com/2dmi85z']\n",
      "['https://i.redd.it/4u5s7lrc1gk51.jpg']\n",
      "['https://imgur.com/gallery/3wrVQLQ']\n",
      "['https://i.redd.it/n4cwv80dcrj51.jpg']\n",
      "['https://i.redd.it/1328eusrkdj51.jpg']\n",
      "['https://imgur.com/a/LyTvbNR']\n",
      "['https://i.redd.it/a4d1jil3d7j51.jpg']\n",
      "['https://imgur.com/a/MB7TyQn/']\n",
      "['https://imgur.com/a/z5LERS5/']\n",
      "['https://imgur.com/a/wiIJols/']\n",
      "['https://imgur.com/gallery/qiRRxMj']\n",
      "['https://imgur.com/j7DUDXw']\n",
      "['https://i.redd.it/klwg819ky2i51.jpg']\n",
      "['https://i.redd.it/xyfova7mlgh51.jpg']\n",
      "['https://i.redd.it/s64wnuyr47h51.jpg']\n",
      "['https://imgur.com/Cl9In7C']\n",
      "['https://imgur.com/gallery/7UViEuq']\n",
      "['https://imgur.com/a/zCKg9AY']\n",
      "['https://i.redd.it/7mcbstidvag51.jpg']\n",
      "['https://i.redd.it/88u3pc36t0f51.jpg']\n",
      "['https://i.redd.it/pj7bwj6ttge51.jpg']\n",
      "['https://i.redd.it/rw7ewumse1e51.jpg']\n",
      "['https://i.redd.it/tnqu6ksgztd51.jpg']\n",
      "['https://imgur.com/a/FFqXSAo']\n",
      "['https://i.redd.it/8n97i33ii3d51.png']\n",
      "['https://imgur.com/WKVnNlb']\n",
      "['https://i.redd.it/o8jdd2nuwyc51.jpg']\n",
      "['https://imgur.com/gallery/mqQQJ21']\n",
      "['https://i.redd.it/7ds6n2efyhc51.jpg']\n",
      "['https://imgur.com/a/yffFNft']\n",
      "['https://i.redd.it/1e2hv3wu9vb51.jpg']\n",
      "['https://imgur.com/gallery/UkastME']\n",
      "['https://imgur.com/gallery/kvkgoK8']\n",
      "['https://imgur.com/gallery/nKK35kx']\n",
      "['https://i.redd.it/wypnhpfmspa51.jpg']\n",
      "['https://i.redd.it/8napfpaxk3a51.jpg']\n",
      "['https://i.redd.it/23b2dc9kx2a51.jpg']\n",
      "['https://i.redd.it/9e83s5fo4g951.jpg']\n",
      "['https://i.redd.it/yvzx20mr49951.jpg']\n",
      "['https://i.redd.it/20idt8nnt2951.jpg']\n",
      "['https://i.redd.it/8nfpsxb2wy851.jpg']\n",
      "['https://i.redd.it/naz71elw7w851.jpg']\n",
      "['https://i.redd.it/buitbm2rcr851.jpg']\n",
      "['https://i.redd.it/twqq5tur3q851.jpg']\n",
      "['https://imgur.com/a/SxkTKmE']\n",
      "['https://i.redd.it/3mpgxp9ige851.jpg']\n",
      "['https://i.redd.it/ztqqeqgl8r651.jpg']\n",
      "['https://i.redd.it/9sejs9mma7651.jpg']\n",
      "['https://imgur.com/a/GfJy4Ir']\n",
      "['https://i.redd.it/r76ynzxa15351.jpg']\n",
      "['https://imgur.com/a/S3tdnDR']\n",
      "['https://imgur.com/gallery/w0uMoG0']\n",
      "['https://i.redd.it/25cswj2zvc251.jpg']\n",
      "['https://i.redd.it/gcwc39foct151.jpg']\n",
      "['https://i.redd.it/jhvxymu3xkz41.jpg']\n",
      "['https://i.redd.it/i0kvqx5su9x41.png']\n",
      "['https://imgur.com/a/1zK9Bs6']\n",
      "['https://i.redd.it/7t4feqrd45v41.jpg']\n",
      "['https://i.redd.it/2axmnbsrfku41.jpg']\n",
      "['Https://imgur.com/gallery/TLkMbQb']\n",
      "['https://i.redd.it/kko6dn47bpq41.jpg']\n",
      "['http://imgur.com/a/JDjRVEF']\n",
      "['https://imgur.com/a/9B2DWVK']\n",
      "['https://i.redd.it/g947f3do0dl41.jpg']\n",
      "['https://imgur.com/gallery/qnR62xv']\n",
      "['https://i.redd.it/pzq1dfl6jyj41.jpg']\n",
      "['https://imgur.com/a/ifAzncR']\n",
      "['https://i.redd.it/9apc7t338ej41.jpg']\n",
      "['https://imgur.com/a/qtHb6qO']\n",
      "['https://imgur.com/gallery/pNoS6aD']\n",
      "['https://imgur.com/a/WOVRFJG']\n",
      "['https://i.redd.it/c1hr01n7f6d41.jpg']\n",
      "['https://i.redd.it/3ms1057x3u841.jpg']\n",
      "['http://imgur.com/gallery/uLb4WUg']\n"
     ]
    }
   ],
   "source": [
    "for cart in plat_arr:\n",
    "    cart.process_gallery()\n",
    "    print(cart.images)"
   ]
  }
 ],
 "metadata": {
  "kernelspec": {
   "display_name": "Python 3",
   "language": "python",
   "name": "python3"
  },
  "language_info": {
   "codemirror_mode": {
    "name": "ipython",
    "version": 3
   },
   "file_extension": ".py",
   "mimetype": "text/x-python",
   "name": "python",
   "nbconvert_exporter": "python",
   "pygments_lexer": "ipython3",
   "version": "3.7.3"
  }
 },
 "nbformat": 4,
 "nbformat_minor": 2
}
