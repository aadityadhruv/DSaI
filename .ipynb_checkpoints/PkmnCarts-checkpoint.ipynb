{
 "cells": [
  {
   "cell_type": "code",
   "execution_count": 1,
   "metadata": {},
   "outputs": [],
   "source": [
    "import datetime as dt\n",
    "import praw\n",
    "import numpy as np\n",
    "import pandas as pd\n",
    "import matplotlib.pyplot as plt"
   ]
  },
  {
   "cell_type": "code",
   "execution_count": 2,
   "metadata": {},
   "outputs": [],
   "source": [
    "reddit = praw.Reddit(client_id='9u3EEbew8PzZ7g', \\\n",
    "                     client_secret='cYvn2pJZQ5Iwtt8RakSyc53E7Z2iBg', \\\n",
    "                     user_agent='pkmnCarts')"
   ]
  },
  {
   "cell_type": "code",
   "execution_count": 3,
   "metadata": {},
   "outputs": [],
   "source": [
    "game_verify = reddit.subreddit('gameverifying')"
   ]
  },
  {
   "cell_type": "code",
   "execution_count": 4,
   "metadata": {},
   "outputs": [],
   "source": [
    "params = {'sort':'new', 'limit':None, 'syntax':'cloudsearch'}\n",
    "results =  game_verify.search(\"soulsilver OR heartgold OR soul silver OR heart gold OR hgss OR HG OR SS\", **params)"
   ]
  },
  {
   "cell_type": "code",
   "execution_count": 5,
   "metadata": {},
   "outputs": [],
   "source": [
    "plat_list = { \"image\":[], \\\n",
    "                \"isReal\":[]}\n",
    "plat_arr = []"
   ]
  },
  {
   "cell_type": "code",
   "execution_count": 6,
   "metadata": {},
   "outputs": [],
   "source": [
    "size = 0"
   ]
  },
  {
   "cell_type": "code",
   "execution_count": 9,
   "metadata": {},
   "outputs": [],
   "source": [
    "class Cartridge:\n",
    "    def __init__(self, cart):\n",
    "        self.images = []\n",
    "        self.cart = cart\n",
    "        self.images.append(cart.url)\n",
    "        self.is_fake = cart.link_flair_text\n",
    "        \n",
    "    def add_image(image):\n",
    "        self.images.append(image)\n",
    "    def clear():\n",
    "        self.images.clear()\n",
    "    def clear_add_images(image):\n",
    "        self.images.clear()\n",
    "        add_image(image)\n",
    "        \n",
    "    def modify_is_fake(new_val):\n",
    "        self.is_fake = new_val\n",
    "    def process_gallery():\n",
    "        for img in images:\n",
    "            img"
   ]
  },
  {
   "cell_type": "code",
   "execution_count": 10,
   "metadata": {
    "scrolled": true
   },
   "outputs": [],
   "source": [
    "for submission in results:\n",
    "    post = reddit.submission(id=submission)\n",
    "    if not submission.is_self:\n",
    "        plat_list[\"image\"].append(submission.url)\n",
    "        plat_list[\"isReal\"].append(submission.link_flair_text)\n",
    "        plat_arr.append(Cartridge(submission))\n",
    "        size += 1"
   ]
  },
  {
   "cell_type": "code",
   "execution_count": null,
   "metadata": {},
   "outputs": [],
   "source": [
    "# gallery = []\n",
    "#        if submission.is_gallery:\n",
    "#            for item in sorted(submission.gallery_data['items'], key=lambda x: x['id']):\n",
    "#               media_id = item['media_id']\n",
    "#              meta = submission.media_metadata[media_id]\n",
    "#             if meta['e'] == 'Image':\n",
    "#                source = meta['s']\n",
    "#               for link in source:\n",
    "#                  gallery.append(link)\n"
   ]
  },
  {
   "cell_type": "code",
   "execution_count": 11,
   "metadata": {},
   "outputs": [],
   "source": [
    "df = pd.DataFrame(plat_list)"
   ]
  },
  {
   "cell_type": "code",
   "execution_count": 12,
   "metadata": {},
   "outputs": [
    {
     "data": {
      "text/plain": [
       "162"
      ]
     },
     "execution_count": 12,
     "metadata": {},
     "output_type": "execute_result"
    }
   ],
   "source": [
    "len(plat_arr)"
   ]
  },
  {
   "cell_type": "code",
   "execution_count": 13,
   "metadata": {},
   "outputs": [
    {
     "data": {
      "text/plain": [
       "162"
      ]
     },
     "execution_count": 13,
     "metadata": {},
     "output_type": "execute_result"
    }
   ],
   "source": [
    "size"
   ]
  },
  {
   "cell_type": "code",
   "execution_count": 21,
   "metadata": {},
   "outputs": [
    {
     "data": {
      "text/html": [
       "<div>\n",
       "<style scoped>\n",
       "    .dataframe tbody tr th:only-of-type {\n",
       "        vertical-align: middle;\n",
       "    }\n",
       "\n",
       "    .dataframe tbody tr th {\n",
       "        vertical-align: top;\n",
       "    }\n",
       "\n",
       "    .dataframe thead th {\n",
       "        text-align: right;\n",
       "    }\n",
       "</style>\n",
       "<table border=\"1\" class=\"dataframe\">\n",
       "  <thead>\n",
       "    <tr style=\"text-align: right;\">\n",
       "      <th></th>\n",
       "      <th>image</th>\n",
       "      <th>isReal</th>\n",
       "    </tr>\n",
       "  </thead>\n",
       "  <tbody>\n",
       "    <tr>\n",
       "      <th>0</th>\n",
       "      <td>https://www.reddit.com/gallery/keluqk</td>\n",
       "      <td>Awaiting images</td>\n",
       "    </tr>\n",
       "    <tr>\n",
       "      <th>1</th>\n",
       "      <td>https://www.reddit.com/gallery/kejon5</td>\n",
       "      <td>Legitimate</td>\n",
       "    </tr>\n",
       "    <tr>\n",
       "      <th>2</th>\n",
       "      <td>https://imgur.com/a/pfnM7FI</td>\n",
       "      <td>Legitimate</td>\n",
       "    </tr>\n",
       "    <tr>\n",
       "      <th>3</th>\n",
       "      <td>https://www.reddit.com/gallery/kdi4ky</td>\n",
       "      <td>Legitimate</td>\n",
       "    </tr>\n",
       "    <tr>\n",
       "      <th>4</th>\n",
       "      <td>https://www.reddit.com/gallery/kdgc9n</td>\n",
       "      <td>Legitimate</td>\n",
       "    </tr>\n",
       "  </tbody>\n",
       "</table>\n",
       "</div>"
      ],
      "text/plain": [
       "                                   image           isReal\n",
       "0  https://www.reddit.com/gallery/keluqk  Awaiting images\n",
       "1  https://www.reddit.com/gallery/kejon5       Legitimate\n",
       "2            https://imgur.com/a/pfnM7FI       Legitimate\n",
       "3  https://www.reddit.com/gallery/kdi4ky       Legitimate\n",
       "4  https://www.reddit.com/gallery/kdgc9n       Legitimate"
      ]
     },
     "execution_count": 21,
     "metadata": {},
     "output_type": "execute_result"
    }
   ],
   "source": [
    "df.head()\n"
   ]
  },
  {
   "cell_type": "code",
   "execution_count": 39,
   "metadata": {},
   "outputs": [],
   "source": [
    "post1 = reddit.submission(url=\"https://www.reddit.com/r/gameverifying/comments/kec2d0/planning_to_buy_is_this_legit_thank_you_in_advance/?utm_source=share&utm_medium=web2x&context=3\")\n",
    "post2 = reddit.submission(url=\"https://www.reddit.com/gallery/keluqk\")\n",
    "#https://www.reddit.com/gallery/keluqk\n",
    "#https://www.reddit.com/r/gameverifying/comments/kec2d0/planning_to_buy_is_this_legit_thank_you_in_advance/?utm_source=share&utm_medium=web2x&context=3"
   ]
  },
  {
   "cell_type": "code",
   "execution_count": 44,
   "metadata": {},
   "outputs": [
    {
     "data": {
      "text/plain": [
       "{'_reddit': <praw.reddit.Reddit at 0x181a4226a58>,\n",
       " '_fetched': True,\n",
       " 'comment_limit': 2048,\n",
       " 'comment_sort': 'confidence',\n",
       " 'id': 'kec2d0',\n",
       " '_comments_by_id': {'t1_gg1j353': Comment(id='gg1j353'),\n",
       "  't1_gg1lxva': Comment(id='gg1lxva'),\n",
       "  't1_gg1mbk6': Comment(id='gg1mbk6'),\n",
       "  't1_gg3dqb8': Comment(id='gg3dqb8')},\n",
       " 'approved_at_utc': None,\n",
       " 'subreddit': Subreddit(display_name='gameverifying'),\n",
       " 'selftext': '',\n",
       " 'user_reports': [],\n",
       " 'saved': False,\n",
       " 'mod_reason_title': None,\n",
       " 'gilded': 0,\n",
       " 'clicked': False,\n",
       " 'title': 'Planning to buy! Is this legit? Thank you in advance!',\n",
       " 'link_flair_richtext': [],\n",
       " 'subreddit_name_prefixed': 'r/gameverifying',\n",
       " 'hidden': False,\n",
       " 'pwls': None,\n",
       " 'link_flair_css_class': 'legit',\n",
       " 'downs': 0,\n",
       " 'thumbnail_height': 140,\n",
       " 'top_awarded_type': None,\n",
       " 'parent_whitelist_status': None,\n",
       " 'hide_score': False,\n",
       " 'name': 't3_kec2d0',\n",
       " 'quarantine': False,\n",
       " 'link_flair_text_color': 'light',\n",
       " 'upvote_ratio': 1.0,\n",
       " 'author_flair_background_color': None,\n",
       " 'subreddit_type': 'public',\n",
       " 'ups': 5,\n",
       " 'total_awards_received': 0,\n",
       " 'media_embed': {},\n",
       " 'thumbnail_width': 140,\n",
       " 'author_flair_template_id': None,\n",
       " 'is_original_content': False,\n",
       " 'author_fullname': 't2_53rzvpo6',\n",
       " 'secure_media': None,\n",
       " 'is_reddit_media_domain': True,\n",
       " 'is_meta': False,\n",
       " 'category': None,\n",
       " 'secure_media_embed': {},\n",
       " 'link_flair_text': 'Legitimate',\n",
       " 'can_mod_post': False,\n",
       " 'score': 5,\n",
       " 'approved_by': None,\n",
       " 'author_premium': False,\n",
       " 'thumbnail': 'https://b.thumbs.redditmedia.com/K_tQfveBrvaQPu748pOMkmROfFmYZCZvNmMBDKe9ckk.jpg',\n",
       " 'edited': False,\n",
       " 'author_flair_css_class': None,\n",
       " 'author_flair_richtext': [],\n",
       " 'gildings': {},\n",
       " 'post_hint': 'image',\n",
       " 'content_categories': None,\n",
       " 'is_self': False,\n",
       " 'mod_note': None,\n",
       " 'created': 1608164027.0,\n",
       " 'link_flair_type': 'text',\n",
       " 'wls': None,\n",
       " 'removed_by_category': None,\n",
       " 'banned_by': None,\n",
       " 'author_flair_type': 'text',\n",
       " 'domain': 'i.redd.it',\n",
       " 'allow_live_comments': False,\n",
       " 'selftext_html': None,\n",
       " 'likes': None,\n",
       " 'suggested_sort': None,\n",
       " 'banned_at_utc': None,\n",
       " 'url_overridden_by_dest': 'https://i.redd.it/osfc6jj5qk561.jpg',\n",
       " 'view_count': None,\n",
       " 'archived': False,\n",
       " 'no_follow': False,\n",
       " 'is_crosspostable': False,\n",
       " 'pinned': False,\n",
       " 'over_18': False,\n",
       " 'preview': {'images': [{'source': {'url': 'https://preview.redd.it/osfc6jj5qk561.jpg?auto=webp&s=8c824b3c9cc2ca1bc728b85203c0b4dcb37e9fc9',\n",
       "     'width': 610,\n",
       "     'height': 1212},\n",
       "    'resolutions': [{'url': 'https://preview.redd.it/osfc6jj5qk561.jpg?width=108&crop=smart&auto=webp&s=de39a8976052fa9e7f0f774a4e782f9a102156ba',\n",
       "      'width': 108,\n",
       "      'height': 214},\n",
       "     {'url': 'https://preview.redd.it/osfc6jj5qk561.jpg?width=216&crop=smart&auto=webp&s=83dd597a3984848c6eab27aff499674cd3dbb0e3',\n",
       "      'width': 216,\n",
       "      'height': 429},\n",
       "     {'url': 'https://preview.redd.it/osfc6jj5qk561.jpg?width=320&crop=smart&auto=webp&s=2c1d576ea431e26f21df47db6a077300eadd9cfe',\n",
       "      'width': 320,\n",
       "      'height': 635}],\n",
       "    'variants': {},\n",
       "    'id': 'fafAiKHPGZti163lPOTsDiE-RSmUUXv2mbxwc6Msqu8'}],\n",
       "  'enabled': True},\n",
       " 'all_awardings': [],\n",
       " 'awarders': [],\n",
       " 'media_only': False,\n",
       " 'link_flair_template_id': '02789890-24e7-11ea-96b0-0e4f06c5e931',\n",
       " 'can_gild': False,\n",
       " 'spoiler': False,\n",
       " 'locked': False,\n",
       " 'author_flair_text': None,\n",
       " 'treatment_tags': [],\n",
       " 'visited': False,\n",
       " 'removed_by': None,\n",
       " 'num_reports': None,\n",
       " 'distinguished': None,\n",
       " 'subreddit_id': 't5_29bibd',\n",
       " 'mod_reason_by': None,\n",
       " 'removal_reason': None,\n",
       " 'link_flair_background_color': '#46d160',\n",
       " 'is_robot_indexable': True,\n",
       " 'num_duplicates': 0,\n",
       " 'report_reasons': None,\n",
       " 'author': Redditor(name='sxvi161'),\n",
       " 'discussion_type': None,\n",
       " 'num_comments': 4,\n",
       " 'send_replies': True,\n",
       " 'media': None,\n",
       " 'contest_mode': False,\n",
       " 'author_patreon_flair': False,\n",
       " 'author_flair_text_color': None,\n",
       " 'permalink': '/r/gameverifying/comments/kec2d0/planning_to_buy_is_this_legit_thank_you_in_advance/',\n",
       " 'whitelist_status': None,\n",
       " 'stickied': False,\n",
       " 'url': 'https://i.redd.it/osfc6jj5qk561.jpg',\n",
       " 'subreddit_subscribers': 2641,\n",
       " 'created_utc': 1608135227.0,\n",
       " 'num_crossposts': 0,\n",
       " 'mod_reports': [],\n",
       " 'is_video': False,\n",
       " '_comments': <praw.models.comment_forest.CommentForest at 0x181a6765b00>}"
      ]
     },
     "execution_count": 44,
     "metadata": {},
     "output_type": "execute_result"
    }
   ],
   "source": [
    "vars(post1)"
   ]
  },
  {
   "cell_type": "code",
   "execution_count": 45,
   "metadata": {},
   "outputs": [
    {
     "data": {
      "text/plain": [
       "{'_reddit': <praw.reddit.Reddit at 0x181a4226a58>,\n",
       " '_fetched': True,\n",
       " 'comment_limit': 2048,\n",
       " 'comment_sort': 'confidence',\n",
       " 'id': 'keluqk',\n",
       " '_comments_by_id': {'t1_gg37aqi': Comment(id='gg37aqi'),\n",
       "  't1_gg3aay6': Comment(id='gg3aay6'),\n",
       "  't1_gg3dagt': Comment(id='gg3dagt'),\n",
       "  't1_gg3fi3i': Comment(id='gg3fi3i'),\n",
       "  't1_gg3qdrp': Comment(id='gg3qdrp'),\n",
       "  't1_gg3t389': Comment(id='gg3t389'),\n",
       "  't1_gg45qoq': Comment(id='gg45qoq'),\n",
       "  't1_gg4i4xr': Comment(id='gg4i4xr')},\n",
       " 'approved_at_utc': None,\n",
       " 'subreddit': Subreddit(display_name='gameverifying'),\n",
       " 'selftext': '',\n",
       " 'user_reports': [],\n",
       " 'saved': False,\n",
       " 'mod_reason_title': None,\n",
       " 'gilded': 0,\n",
       " 'clicked': False,\n",
       " 'is_gallery': True,\n",
       " 'title': 'Is this a real copy of Pokemon Soul Silver?',\n",
       " 'link_flair_richtext': [],\n",
       " 'subreddit_name_prefixed': 'r/gameverifying',\n",
       " 'hidden': False,\n",
       " 'pwls': None,\n",
       " 'link_flair_css_class': 'unsolved',\n",
       " 'downs': 0,\n",
       " 'thumbnail_height': 140,\n",
       " 'top_awarded_type': None,\n",
       " 'parent_whitelist_status': None,\n",
       " 'name': 't3_keluqk',\n",
       " 'media_metadata': {'0evmau045n561': {'status': 'valid',\n",
       "   'e': 'Image',\n",
       "   'm': 'image/png',\n",
       "   'p': [{'y': 97,\n",
       "     'x': 108,\n",
       "     'u': 'https://preview.redd.it/0evmau045n561.png?width=108&crop=smart&auto=webp&s=618e8390662811ef9f8ff53ca2fcad47f9d65d39'},\n",
       "    {'y': 194,\n",
       "     'x': 216,\n",
       "     'u': 'https://preview.redd.it/0evmau045n561.png?width=216&crop=smart&auto=webp&s=bd4e1c5b591625bb828743295d64f6024496807b'},\n",
       "    {'y': 288,\n",
       "     'x': 320,\n",
       "     'u': 'https://preview.redd.it/0evmau045n561.png?width=320&crop=smart&auto=webp&s=db258817c86902b2b79e1236ea35a0a3b6647578'},\n",
       "    {'y': 576,\n",
       "     'x': 640,\n",
       "     'u': 'https://preview.redd.it/0evmau045n561.png?width=640&crop=smart&auto=webp&s=9c89b0fc6b9e7cc3514d94cdbcc93c5e8aa7d4c0'},\n",
       "    {'y': 864,\n",
       "     'x': 960,\n",
       "     'u': 'https://preview.redd.it/0evmau045n561.png?width=960&crop=smart&auto=webp&s=b0b7e87a6933bef52775eb53d0ef16eafe65034d'}],\n",
       "   's': {'y': 874,\n",
       "    'x': 970,\n",
       "    'u': 'https://preview.redd.it/0evmau045n561.png?width=970&format=png&auto=webp&s=d77b8e866e376ef02ebc554f2d2a072379a9ef3d'},\n",
       "   'id': '0evmau045n561'},\n",
       "  'rz1ched25n561': {'status': 'valid',\n",
       "   'e': 'Image',\n",
       "   'm': 'image/png',\n",
       "   'p': [{'y': 108,\n",
       "     'x': 108,\n",
       "     'u': 'https://preview.redd.it/rz1ched25n561.png?width=108&crop=smart&auto=webp&s=240969e966cab7b944161f3e4f1ff7d2ac8cd2f1'},\n",
       "    {'y': 216,\n",
       "     'x': 216,\n",
       "     'u': 'https://preview.redd.it/rz1ched25n561.png?width=216&crop=smart&auto=webp&s=d0b1e4e7c28e9e6f90a272b3ea631fe1ff482d4c'},\n",
       "    {'y': 320,\n",
       "     'x': 320,\n",
       "     'u': 'https://preview.redd.it/rz1ched25n561.png?width=320&crop=smart&auto=webp&s=fd04834495c18358e343f36c385c9ea212b2b533'},\n",
       "    {'y': 641,\n",
       "     'x': 640,\n",
       "     'u': 'https://preview.redd.it/rz1ched25n561.png?width=640&crop=smart&auto=webp&s=c696ce1a5a6fd4ebd131daa275c14801040c4e30'}],\n",
       "   's': {'y': 748,\n",
       "    'x': 746,\n",
       "    'u': 'https://preview.redd.it/rz1ched25n561.png?width=746&format=png&auto=webp&s=8fe0c852ddd6cd756010010483951381dd631bf3'},\n",
       "   'id': 'rz1ched25n561'},\n",
       "  'ztavixx25n561': {'status': 'valid',\n",
       "   'e': 'Image',\n",
       "   'm': 'image/png',\n",
       "   'p': [{'y': 99,\n",
       "     'x': 108,\n",
       "     'u': 'https://preview.redd.it/ztavixx25n561.png?width=108&crop=smart&auto=webp&s=283d7b453fe671c1657ad4180a6acf3587ab4e6b'},\n",
       "    {'y': 198,\n",
       "     'x': 216,\n",
       "     'u': 'https://preview.redd.it/ztavixx25n561.png?width=216&crop=smart&auto=webp&s=2be47886032aae51ba6c2bbc3b96ab26ed6b1fd6'},\n",
       "    {'y': 294,\n",
       "     'x': 320,\n",
       "     'u': 'https://preview.redd.it/ztavixx25n561.png?width=320&crop=smart&auto=webp&s=07916843513f9ad97de542cf0ca4c60bbebf1773'},\n",
       "    {'y': 588,\n",
       "     'x': 640,\n",
       "     'u': 'https://preview.redd.it/ztavixx25n561.png?width=640&crop=smart&auto=webp&s=2af7d9ba06d1de1d298fba06ab1c65e27834186e'},\n",
       "    {'y': 882,\n",
       "     'x': 960,\n",
       "     'u': 'https://preview.redd.it/ztavixx25n561.png?width=960&crop=smart&auto=webp&s=5f391d6413dd4d250159f7c487891ed19abe14c9'}],\n",
       "   's': {'y': 906,\n",
       "    'x': 986,\n",
       "    'u': 'https://preview.redd.it/ztavixx25n561.png?width=986&format=png&auto=webp&s=3ed71dc741872f61e6dc2f4618f472a9ef182287'},\n",
       "   'id': 'ztavixx25n561'}},\n",
       " 'hide_score': False,\n",
       " 'quarantine': False,\n",
       " 'link_flair_text_color': 'dark',\n",
       " 'upvote_ratio': 0.76,\n",
       " 'author_flair_background_color': None,\n",
       " 'subreddit_type': 'public',\n",
       " 'ups': 2,\n",
       " 'domain': 'reddit.com',\n",
       " 'media_embed': {},\n",
       " 'thumbnail_width': 140,\n",
       " 'author_flair_template_id': None,\n",
       " 'is_original_content': False,\n",
       " 'author_fullname': 't2_44zbmhci',\n",
       " 'secure_media': None,\n",
       " 'is_reddit_media_domain': False,\n",
       " 'is_meta': False,\n",
       " 'category': None,\n",
       " 'secure_media_embed': {},\n",
       " 'gallery_data': {'items': [{'media_id': 'rz1ched25n561', 'id': 17632841},\n",
       "   {'media_id': 'ztavixx25n561', 'id': 17632842},\n",
       "   {'media_id': '0evmau045n561', 'id': 17632843}]},\n",
       " 'link_flair_text': 'Awaiting images',\n",
       " 'can_mod_post': False,\n",
       " 'score': 2,\n",
       " 'approved_by': None,\n",
       " 'author_premium': False,\n",
       " 'thumbnail': 'https://b.thumbs.redditmedia.com/yDsID2W9LLc7D6G9aWluoXsHpRPlyameQt7bXeUU7yw.jpg',\n",
       " 'edited': False,\n",
       " 'author_flair_css_class': None,\n",
       " 'author_flair_richtext': [],\n",
       " 'gildings': {},\n",
       " 'content_categories': None,\n",
       " 'is_self': False,\n",
       " 'mod_note': None,\n",
       " 'created': 1608193294.0,\n",
       " 'link_flair_type': 'text',\n",
       " 'wls': None,\n",
       " 'removed_by_category': None,\n",
       " 'banned_by': None,\n",
       " 'author_flair_type': 'text',\n",
       " 'total_awards_received': 0,\n",
       " 'allow_live_comments': False,\n",
       " 'selftext_html': None,\n",
       " 'likes': None,\n",
       " 'suggested_sort': None,\n",
       " 'banned_at_utc': None,\n",
       " 'url_overridden_by_dest': 'https://www.reddit.com/gallery/keluqk',\n",
       " 'view_count': None,\n",
       " 'archived': False,\n",
       " 'no_follow': True,\n",
       " 'is_crosspostable': False,\n",
       " 'pinned': False,\n",
       " 'over_18': False,\n",
       " 'all_awardings': [],\n",
       " 'awarders': [],\n",
       " 'media_only': False,\n",
       " 'link_flair_template_id': 'a1c6f5e2-300c-11ea-bcfb-0e4819484fc1',\n",
       " 'can_gild': False,\n",
       " 'spoiler': False,\n",
       " 'locked': False,\n",
       " 'author_flair_text': None,\n",
       " 'treatment_tags': [],\n",
       " 'visited': False,\n",
       " 'removed_by': None,\n",
       " 'num_reports': None,\n",
       " 'distinguished': None,\n",
       " 'subreddit_id': 't5_29bibd',\n",
       " 'mod_reason_by': None,\n",
       " 'removal_reason': None,\n",
       " 'link_flair_background_color': '#ffd635',\n",
       " 'is_robot_indexable': True,\n",
       " 'num_duplicates': 0,\n",
       " 'report_reasons': None,\n",
       " 'author': Redditor(name='tomtheslunk'),\n",
       " 'discussion_type': None,\n",
       " 'num_comments': 8,\n",
       " 'send_replies': True,\n",
       " 'media': None,\n",
       " 'contest_mode': False,\n",
       " 'author_patreon_flair': False,\n",
       " 'author_flair_text_color': None,\n",
       " 'permalink': '/r/gameverifying/comments/keluqk/is_this_a_real_copy_of_pokemon_soul_silver/',\n",
       " 'whitelist_status': None,\n",
       " 'stickied': False,\n",
       " 'url': 'https://www.reddit.com/gallery/keluqk',\n",
       " 'subreddit_subscribers': 2641,\n",
       " 'created_utc': 1608164494.0,\n",
       " 'num_crossposts': 0,\n",
       " 'mod_reports': [],\n",
       " 'is_video': False,\n",
       " '_comments': <praw.models.comment_forest.CommentForest at 0x181a67652e8>}"
      ]
     },
     "execution_count": 45,
     "metadata": {},
     "output_type": "execute_result"
    }
   ],
   "source": [
    "vars(post2)"
   ]
  },
  {
   "cell_type": "code",
   "execution_count": 43,
   "metadata": {},
   "outputs": [
    {
     "data": {
      "text/plain": [
       "True"
      ]
     },
     "execution_count": 43,
     "metadata": {},
     "output_type": "execute_result"
    }
   ],
   "source": [
    "post2.is_gallery"
   ]
  }
 ],
 "metadata": {
  "kernelspec": {
   "display_name": "Python 3",
   "language": "python",
   "name": "python3"
  },
  "language_info": {
   "codemirror_mode": {
    "name": "ipython",
    "version": 3
   },
   "file_extension": ".py",
   "mimetype": "text/x-python",
   "name": "python",
   "nbconvert_exporter": "python",
   "pygments_lexer": "ipython3",
   "version": "3.7.3"
  }
 },
 "nbformat": 4,
 "nbformat_minor": 2
}
